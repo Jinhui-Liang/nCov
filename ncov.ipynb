{
 "cells": [
  {
   "cell_type": "code",
   "execution_count": 1,
   "metadata": {},
   "outputs": [],
   "source": [
    "# Import\n",
    "import pandas as pd\n",
    "import numpy as np\n",
    "import pickle\n",
    "# Load\n",
    "with open('im.txt','rb') as f:\n",
    "    im = pickle.load(f)"
   ]
  },
  {
   "cell_type": "code",
   "execution_count": 31,
   "metadata": {},
   "outputs": [
    {
     "data": {
      "text/html": [
       "<div>\n",
       "<style scoped>\n",
       "    .dataframe tbody tr th:only-of-type {\n",
       "        vertical-align: middle;\n",
       "    }\n",
       "\n",
       "    .dataframe tbody tr th {\n",
       "        vertical-align: top;\n",
       "    }\n",
       "\n",
       "    .dataframe thead th {\n",
       "        text-align: right;\n",
       "    }\n",
       "</style>\n",
       "<table border=\"1\" class=\"dataframe\">\n",
       "  <thead>\n",
       "    <tr style=\"text-align: right;\">\n",
       "      <th></th>\n",
       "      <th>date</th>\n",
       "      <th>origin</th>\n",
       "      <th>ratio</th>\n",
       "      <th>city</th>\n",
       "    </tr>\n",
       "  </thead>\n",
       "  <tbody>\n",
       "    <tr>\n",
       "      <th>0</th>\n",
       "      <td>2020-01-01</td>\n",
       "      <td>临沧</td>\n",
       "      <td>0.15</td>\n",
       "      <td>临沧</td>\n",
       "    </tr>\n",
       "    <tr>\n",
       "      <th>1</th>\n",
       "      <td>2020-01-01</td>\n",
       "      <td>丽江</td>\n",
       "      <td>0.00</td>\n",
       "      <td>临沧</td>\n",
       "    </tr>\n",
       "    <tr>\n",
       "      <th>2</th>\n",
       "      <td>2020-01-01</td>\n",
       "      <td>保山</td>\n",
       "      <td>0.72</td>\n",
       "      <td>临沧</td>\n",
       "    </tr>\n",
       "    <tr>\n",
       "      <th>3</th>\n",
       "      <td>2020-01-01</td>\n",
       "      <td>大理</td>\n",
       "      <td>32.14</td>\n",
       "      <td>临沧</td>\n",
       "    </tr>\n",
       "    <tr>\n",
       "      <th>4</th>\n",
       "      <td>2020-01-01</td>\n",
       "      <td>德宏</td>\n",
       "      <td>0.33</td>\n",
       "      <td>临沧</td>\n",
       "    </tr>\n",
       "    <tr>\n",
       "      <th>...</th>\n",
       "      <td>...</td>\n",
       "      <td>...</td>\n",
       "      <td>...</td>\n",
       "      <td>...</td>\n",
       "    </tr>\n",
       "    <tr>\n",
       "      <th>14787</th>\n",
       "      <td>2020-02-12</td>\n",
       "      <td>齐齐哈尔</td>\n",
       "      <td>0.00</td>\n",
       "      <td>重庆</td>\n",
       "    </tr>\n",
       "    <tr>\n",
       "      <th>14788</th>\n",
       "      <td>2020-02-12</td>\n",
       "      <td>上海</td>\n",
       "      <td>0.60</td>\n",
       "      <td>重庆</td>\n",
       "    </tr>\n",
       "    <tr>\n",
       "      <th>14789</th>\n",
       "      <td>2020-02-12</td>\n",
       "      <td>北京</td>\n",
       "      <td>0.54</td>\n",
       "      <td>重庆</td>\n",
       "    </tr>\n",
       "    <tr>\n",
       "      <th>14790</th>\n",
       "      <td>2020-02-12</td>\n",
       "      <td>天津</td>\n",
       "      <td>0.18</td>\n",
       "      <td>重庆</td>\n",
       "    </tr>\n",
       "    <tr>\n",
       "      <th>14791</th>\n",
       "      <td>2020-02-12</td>\n",
       "      <td>重庆</td>\n",
       "      <td>0.00</td>\n",
       "      <td>重庆</td>\n",
       "    </tr>\n",
       "  </tbody>\n",
       "</table>\n",
       "<p>5088448 rows × 4 columns</p>\n",
       "</div>"
      ],
      "text/plain": [
       "             date origin  ratio city\n",
       "0      2020-01-01     临沧   0.15   临沧\n",
       "1      2020-01-01     丽江   0.00   临沧\n",
       "2      2020-01-01     保山   0.72   临沧\n",
       "3      2020-01-01     大理  32.14   临沧\n",
       "4      2020-01-01     德宏   0.33   临沧\n",
       "...           ...    ...    ...  ...\n",
       "14787  2020-02-12   齐齐哈尔   0.00   重庆\n",
       "14788  2020-02-12     上海   0.60   重庆\n",
       "14789  2020-02-12     北京   0.54   重庆\n",
       "14790  2020-02-12     天津   0.18   重庆\n",
       "14791  2020-02-12     重庆   0.00   重庆\n",
       "\n",
       "[5088448 rows x 4 columns]"
      ]
     },
     "execution_count": 31,
     "metadata": {},
     "output_type": "execute_result"
    }
   ],
   "source": [
    "# Reshape the im matrix\n",
    "li = []\n",
    "for d in im.keys():\n",
    "    temp = im[d].unstack().reset_index()\n",
    "    temp['city'] = d\n",
    "    li.append(temp)\n",
    "imdf = pd.concat(li,axis=0)    \n",
    "imdf.rename(columns={\"level_0\":\"date\",\"level_1\":\"origin\",0:\"ratio\"},inplace=True)\n",
    "imdf"
   ]
  },
  {
   "cell_type": "code",
   "execution_count": 30,
   "metadata": {},
   "outputs": [
    {
     "data": {
      "text/plain": [
       "Index(['date', 'origin', 0, 'city'], dtype='object')"
      ]
     },
     "execution_count": 30,
     "metadata": {},
     "output_type": "execute_result"
    }
   ],
   "source": []
  }
 ],
 "metadata": {
  "kernelspec": {
   "display_name": "ncov",
   "language": "python",
   "name": "ncov"
  },
  "language_info": {
   "codemirror_mode": {
    "name": "ipython",
    "version": 3
   },
   "file_extension": ".py",
   "mimetype": "text/x-python",
   "name": "python",
   "nbconvert_exporter": "python",
   "pygments_lexer": "ipython3",
   "version": "3.7.6"
  },
  "varInspector": {
   "cols": {
    "lenName": 16,
    "lenType": 16,
    "lenVar": 40
   },
   "kernels_config": {
    "python": {
     "delete_cmd_postfix": "",
     "delete_cmd_prefix": "del ",
     "library": "var_list.py",
     "varRefreshCmd": "print(var_dic_list())"
    },
    "r": {
     "delete_cmd_postfix": ") ",
     "delete_cmd_prefix": "rm(",
     "library": "var_list.r",
     "varRefreshCmd": "cat(var_dic_list()) "
    }
   },
   "position": {
    "height": "392px",
    "left": "567px",
    "right": "20px",
    "top": "143px",
    "width": "460px"
   },
   "types_to_exclude": [
    "module",
    "function",
    "builtin_function_or_method",
    "instance",
    "_Feature"
   ],
   "window_display": true
  }
 },
 "nbformat": 4,
 "nbformat_minor": 4
}

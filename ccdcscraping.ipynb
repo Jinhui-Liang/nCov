{
 "cells": [
  {
   "cell_type": "code",
   "execution_count": 37,
   "metadata": {},
   "outputs": [],
   "source": [
    "# import\n",
    "import pandas as pd\n",
    "import json\n",
    "import pickle\n",
    "import os\n",
    "import re\n",
    "from datetime import datetime\n",
    "\n",
    "rx_dict ={'date': re.compile(r'yq_(\\d\\d\\d\\d\\d\\d\\d\\d).json')}\n",
    "dateli = []\n",
    "ccdcli = [] \n",
    "ccdc = []\n",
    "new_index = ['suspected_n','suspected_t','confirmed_n','confirmed_t','dead_n','dead_t']\n",
    "for filename in os.listdir('/home/jinhui/Github/nCov/ccdc'):\n",
    "    date = re.findall(rx_dict['date'],filename)\n",
    "    dateli.append(date[0])\n",
    "    with open('/home/jinhui/Github/nCov/ccdc/%s'%filename, encoding='utf-8') as f:\n",
    "        ccdcli.append(json.load(f))\n",
    "\n",
    "for i in range(len(dateli)):\n",
    "    date = datetime.strptime(dateli[i],'%Y%m%d')\n",
    "    date = date.date()\n",
    "    cdc = ccdcli[i]\n",
    "    li = []\n",
    "    lin = []\n",
    "    for j in range(0, 34):\n",
    "        temp = cdc['features'][j]['properties']\n",
    "        tempname = cdc['features'][j]['properties']['name']\n",
    "        dftemp = pd.Series(temp, index=['新增疑似','累计疑似','新增确诊','累计确诊','新增死亡','累计死亡'])\n",
    "        dftemp = dftemp.reset_index(drop=True)\n",
    "        dftemp.index = new_index\n",
    "        li.append(dftemp)\n",
    "        lin.append(tempname)\n",
    "    dfd = pd.DataFrame(li,index=lin)\n",
    "    dfds = dfd.stack()\n",
    "    dfds = dfds.to_frame(name=date)\n",
    "    ccdc.append(dfds)\n",
    "ccdc = pd.concat(ccdc, axis=1)\n",
    "ccdc.index = pd.MultiIndex.from_tuples(ccdc.index.values, names=['provinces', 'cases'])\n",
    "\n",
    "# seperate the new cases and total cases\n",
    "list_t = [ccdc.xs('confirmed_t',axis=0, level=1,drop_level=False),ccdc.xs('suspected_t',axis=0, level=1,drop_level=False),ccdc.xs('dead_t',axis=0, level=1,drop_level=False)]\n",
    "list_n = [ccdc.xs('confirmed_n',axis=0, level=1,drop_level=False),ccdc.xs('suspected_n',axis=0, level=1,drop_level=False),ccdc.xs('dead_n',axis=0, level=1,drop_level=False)]\n",
    "ccdc_n = pd.concat(list_n, axis=0)\n",
    "ccdc_t = pd.concat(list_t, axis=0)\n",
    "\n",
    "## Fixing the 01-15\n",
    "for i in range(0, 102):\n",
    "    ccdc_t.iloc[i,5] = ccdc_t.iloc[i,6]-ccdc_n.iloc[i,6]\n",
    "    ccdc_n.iloc[i,5] = ccdc_t.iloc[i,5]-ccdc_t.iloc[i,4]\n",
    "\n",
    "# Save\n",
    "with open('ccdc_n.txt', 'wb') as f:\n",
    "    pickle.dump(ccdc_n, f)\n",
    "with open('ccdc_t.txt', 'wb') as f:\n",
    "    pickle.dump(ccdc_t, f)\n",
    "    "
   ]
  }
 ],
 "metadata": {
  "kernelspec": {
   "display_name": "ncov",
   "language": "python",
   "name": "ncov"
  },
  "language_info": {
   "codemirror_mode": {
    "name": "ipython",
    "version": 3
   },
   "file_extension": ".py",
   "mimetype": "text/x-python",
   "name": "python",
   "nbconvert_exporter": "python",
   "pygments_lexer": "ipython3",
   "version": "3.7.6"
  },
  "varInspector": {
   "cols": {
    "lenName": 16,
    "lenType": 16,
    "lenVar": 40
   },
   "kernels_config": {
    "python": {
     "delete_cmd_postfix": "",
     "delete_cmd_prefix": "del ",
     "library": "var_list.py",
     "varRefreshCmd": "print(var_dic_list())"
    },
    "r": {
     "delete_cmd_postfix": ") ",
     "delete_cmd_prefix": "rm(",
     "library": "var_list.r",
     "varRefreshCmd": "cat(var_dic_list()) "
    }
   },
   "oldHeight": 275,
   "position": {
    "height": "40px",
    "left": "659px",
    "right": "20px",
    "top": "120px",
    "width": "250px"
   },
   "types_to_exclude": [
    "module",
    "function",
    "builtin_function_or_method",
    "instance",
    "_Feature"
   ],
   "varInspector_section_display": "none",
   "window_display": true
  }
 },
 "nbformat": 4,
 "nbformat_minor": 4
}
